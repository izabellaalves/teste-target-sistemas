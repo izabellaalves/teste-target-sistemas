{
 "cells": [
  {
   "cell_type": "code",
   "execution_count": 25,
   "id": "b123550b",
   "metadata": {},
   "outputs": [
    {
     "name": "stdout",
     "output_type": "stream",
     "text": [
      "{'dia': 1, 'valor': 22174.1664}\n",
      "{'dia': 2, 'valor': 24537.6698}\n",
      "{'dia': 3, 'valor': 26139.6134}\n",
      "{'dia': 4, 'valor': 0.0}\n",
      "{'dia': 5, 'valor': 0.0}\n",
      "{'dia': 6, 'valor': 26742.6612}\n",
      "{'dia': 7, 'valor': 0.0}\n",
      "{'dia': 8, 'valor': 42889.2258}\n",
      "{'dia': 9, 'valor': 46251.174}\n",
      "{'dia': 10, 'valor': 11191.4722}\n",
      "{'dia': 11, 'valor': 0.0}\n",
      "{'dia': 12, 'valor': 0.0}\n",
      "{'dia': 13, 'valor': 3847.4823}\n",
      "{'dia': 14, 'valor': 373.7838}\n",
      "{'dia': 15, 'valor': 2659.7563}\n",
      "{'dia': 16, 'valor': 48924.2448}\n",
      "{'dia': 17, 'valor': 18419.2614}\n",
      "{'dia': 18, 'valor': 0.0}\n",
      "{'dia': 19, 'valor': 0.0}\n",
      "{'dia': 20, 'valor': 35240.1826}\n",
      "{'dia': 21, 'valor': 43829.1667}\n",
      "{'dia': 22, 'valor': 18235.6852}\n",
      "{'dia': 23, 'valor': 4355.0662}\n",
      "{'dia': 24, 'valor': 13327.1025}\n",
      "{'dia': 25, 'valor': 0.0}\n",
      "{'dia': 26, 'valor': 0.0}\n",
      "{'dia': 27, 'valor': 25681.8318}\n",
      "{'dia': 28, 'valor': 1718.1221}\n",
      "{'dia': 29, 'valor': 13220.495}\n",
      "{'dia': 30, 'valor': 8414.61}\n"
     ]
    }
   ],
   "source": [
    "import json\n",
    "with open(\"dados.json\") as valores:\n",
    "    dados = json.load(valores)\n",
    "for i in dados:\n",
    "    print(i)"
   ]
  },
  {
   "cell_type": "code",
   "execution_count": 14,
   "id": "6390e9a8",
   "metadata": {},
   "outputs": [
    {
     "name": "stdout",
     "output_type": "stream",
     "text": [
      "{'dia': 1, 'valor': 22174.1664}\n"
     ]
    }
   ],
   "source": [
    "print(dados[0])"
   ]
  },
  {
   "cell_type": "code",
   "execution_count": 17,
   "id": "30bbf532",
   "metadata": {},
   "outputs": [
    {
     "name": "stdout",
     "output_type": "stream",
     "text": [
      "22174.1664\n"
     ]
    }
   ],
   "source": [
    "print(dados[0]['valor'])"
   ]
  },
  {
   "cell_type": "code",
   "execution_count": 37,
   "id": "f555e6bc",
   "metadata": {},
   "outputs": [],
   "source": [
    "valoresDias = []\n",
    "for i in dados:\n",
    "    valoresDias.append(i['valor'])\n",
    "\n",
    "    "
   ]
  },
  {
   "cell_type": "code",
   "execution_count": 38,
   "id": "3307d71f",
   "metadata": {},
   "outputs": [],
   "source": [
    "zeros = 0.0\n",
    "while zeros in valoresDias:\n",
    "   valoresDias.remove(zeros)"
   ]
  },
  {
   "cell_type": "code",
   "execution_count": 48,
   "id": "85ac796d",
   "metadata": {},
   "outputs": [
    {
     "name": "stdout",
     "output_type": "stream",
     "text": [
      "O menor valor de faturamento ocorrido em um dia do mês: 373.7838\n",
      "O maior valor de faturamento ocorrido em um dia do mês: 48924.2448\n",
      "Número de dias no mês em que o valor de faturamento diário foi superior à média mensal: 10\n"
     ]
    }
   ],
   "source": [
    "print(\"O menor valor de faturamento ocorrido em um dia do mês: \" + str(min(valoresDias)))\n",
    "print(\"O maior valor de faturamento ocorrido em um dia do mês: \" + str(max(valoresDias)))\n",
    "media = sum(valoresDias)/21\n",
    "dias = 0;\n",
    "\n",
    "for i in dados:\n",
    "    if i['valor'] > media:\n",
    "        dias = dias + 1\n",
    "print(\"Número de dias no mês em que o valor de faturamento diário foi superior à média mensal: \" + str(dias))"
   ]
  },
  {
   "cell_type": "code",
   "execution_count": 44,
   "id": "38b6d238",
   "metadata": {},
   "outputs": [],
   "source": []
  },
  {
   "cell_type": "code",
   "execution_count": 46,
   "id": "59203caa",
   "metadata": {},
   "outputs": [
    {
     "name": "stdout",
     "output_type": "stream",
     "text": [
      "10\n"
     ]
    }
   ],
   "source": []
  },
  {
   "cell_type": "code",
   "execution_count": null,
   "id": "99782846",
   "metadata": {},
   "outputs": [],
   "source": []
  }
 ],
 "metadata": {
  "kernelspec": {
   "display_name": "Python 3 (ipykernel)",
   "language": "python",
   "name": "python3"
  },
  "language_info": {
   "codemirror_mode": {
    "name": "ipython",
    "version": 3
   },
   "file_extension": ".py",
   "mimetype": "text/x-python",
   "name": "python",
   "nbconvert_exporter": "python",
   "pygments_lexer": "ipython3",
   "version": "3.9.12"
  }
 },
 "nbformat": 4,
 "nbformat_minor": 5
}
