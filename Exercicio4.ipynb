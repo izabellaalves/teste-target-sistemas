{
 "cells": [
  {
   "cell_type": "code",
   "execution_count": 4,
   "id": "d88d8cb7",
   "metadata": {},
   "outputs": [
    {
     "name": "stdout",
     "output_type": "stream",
     "text": [
      "180759.98\n"
     ]
    }
   ],
   "source": [
    "sp = 67836.43\n",
    "rj = 36678.66\n",
    "mg = 29229.88\n",
    "es = 27165.48\n",
    "outros = 19849.53\n",
    "\n",
    "total = (sp+rj+mg+es+outros)\n",
    "print(total)"
   ]
  },
  {
   "cell_type": "code",
   "execution_count": 12,
   "id": "0f2030cb",
   "metadata": {},
   "outputs": [],
   "source": [
    "percentualSP = (sp/total)*100\n",
    "percentualRJ = (rj/total)*100\n",
    "percentualMG = (mg/total)*100\n",
    "percentualES = (es/total)*100\n",
    "percentualOutros = (outros/total)*100"
   ]
  },
  {
   "cell_type": "code",
   "execution_count": 13,
   "id": "5964742b",
   "metadata": {},
   "outputs": [
    {
     "name": "stdout",
     "output_type": "stream",
     "text": [
      "Percentual de São Paulo dentro do valor total mensal da distribuidora: 37.52845624346716 %\n",
      "Percentual de Rio de Janeiro dentro do valor total mensal da distribuidora: 20.291360952794975 %\n",
      "Percentual de Minas Gerais dentro do valor total mensal da distribuidora: 16.170548370275323 %\n",
      "Percentual de Espírito Santos dentro do valor total mensal da distribuidora: 15.028481414968068 %\n",
      "Percentual de Outros dentro do valor total mensal da distribuidora: 10.981153018494469 %\n"
     ]
    }
   ],
   "source": [
    "print(\"Percentual de São Paulo dentro do valor total mensal da distribuidora: \" +str(percentualSP)+' %')\n",
    "print(\"Percentual de Rio de Janeiro dentro do valor total mensal da distribuidora: \" +str(percentualRJ)+' %')\n",
    "print(\"Percentual de Minas Gerais dentro do valor total mensal da distribuidora: \" + str(percentualMG)+' %')\n",
    "print(\"Percentual de Espírito Santos dentro do valor total mensal da distribuidora: \" +str(percentualES)+' %')\n",
    "print(\"Percentual de Outros dentro do valor total mensal da distribuidora: \"+ str(percentualOutros)+' %')"
   ]
  },
  {
   "cell_type": "code",
   "execution_count": null,
   "id": "a0f42768",
   "metadata": {},
   "outputs": [],
   "source": []
  },
  {
   "cell_type": "code",
   "execution_count": null,
   "id": "0ae32dd2",
   "metadata": {},
   "outputs": [],
   "source": []
  }
 ],
 "metadata": {
  "kernelspec": {
   "display_name": "Python 3 (ipykernel)",
   "language": "python",
   "name": "python3"
  },
  "language_info": {
   "codemirror_mode": {
    "name": "ipython",
    "version": 3
   },
   "file_extension": ".py",
   "mimetype": "text/x-python",
   "name": "python",
   "nbconvert_exporter": "python",
   "pygments_lexer": "ipython3",
   "version": "3.9.12"
  }
 },
 "nbformat": 4,
 "nbformat_minor": 5
}
